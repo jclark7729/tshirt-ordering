{
  "nbformat": 4,
  "nbformat_minor": 0,
  "metadata": {
    "colab": {
      "provenance": []
    },
    "kernelspec": {
      "name": "python3",
      "display_name": "Python 3"
    },
    "language_info": {
      "name": "python"
    }
  },
  "cells": [
    {
      "cell_type": "code",
      "execution_count": null,
      "metadata": {
        "id": "86TgNi2-9KNB"
      },
      "outputs": [],
      "source": []
    },
    {
      "cell_type": "code",
      "execution_count": 35,
      "metadata": {
        "id": "AiswgMWjkgIb"
      },
      "outputs": [],
      "source": [
        "# Uncomment the following code if you are using Colab.\n",
        "%%capture\n",
        "!pip install gradio\n",
        "import gradio as gr"
      ]
    },
    {
      "cell_type": "code",
      "execution_count": 39,
      "metadata": {
        "id": "6BGLBBrxkoRo",
        "colab": {
          "base_uri": "https://localhost:8080/",
          "height": 591
        },
        "outputId": "8fba4af2-5e82-4ba7-b99b-4f6f7f6f55ff"
      },
      "outputs": [
        {
          "output_type": "stream",
          "name": "stdout",
          "text": [
            "Colab notebook detected. To show errors in colab notebook, set debug=True in launch()\n",
            "* Running on public URL: https://6b4c111cf9a7e0eead.gradio.live\n",
            "\n",
            "This share link expires in 72 hours. For free permanent hosting and GPU upgrades, run `gradio deploy` from the terminal in the working directory to deploy to Hugging Face Spaces (https://huggingface.co/spaces)\n"
          ]
        },
        {
          "output_type": "display_data",
          "data": {
            "text/plain": [
              "<IPython.core.display.HTML object>"
            ],
            "text/html": [
              "<div><iframe src=\"https://6b4c111cf9a7e0eead.gradio.live\" width=\"100%\" height=\"500\" allow=\"autoplay; camera; microphone; clipboard-read; clipboard-write;\" frameborder=\"0\" allowfullscreen></iframe></div>"
            ]
          },
          "metadata": {}
        },
        {
          "output_type": "execute_result",
          "data": {
            "text/plain": []
          },
          "metadata": {},
          "execution_count": 39
        }
      ],
      "source": [
        "\n",
        "\n",
        "# Initialize an empty shopping cart\n",
        "shopping_cart = []\n",
        "\n",
        "def add_to_cart(size, colors, quantity):\n",
        "    \"\"\"Adds a tshirt to the shopping cart.\"\"\"\n",
        "    size_prices = {\"Xtra large\": 32, \"large\": 28, \"medium\": 25, \"small\": 25}\n",
        "    color_prices = {  # Dictionary to store prices for each color\n",
        "        \"Red\": 4.00,\n",
        "        \"Green\": 3.00,\n",
        "        \"Royal blue\": 3.00,\n",
        "        \"Black\": 3.00,\n",
        "        \"White\": 0.00\n",
        "    }\n",
        "\n",
        "    price = size_prices.get(size, 0)\n",
        "    for color in colors:  # Iterate through selected colors\n",
        "        price += color_prices.get(color, 0)  # Add color price\n",
        "\n",
        "    item = {\n",
        "        \"size\": size,\n",
        "        \"colors\": colors,\n",
        "        \"quantity\": quantity,\n",
        "        \"price\": price * quantity  # Store price per item\n",
        "    }\n",
        "    shopping_cart.append(item)\n",
        "    return \"Item added to cart!\"\n",
        "\n",
        "def view_cart():\n",
        "    \"\"\"Displays the current contents of the shopping cart.\"\"\"\n",
        "    cart_items = []\n",
        "    for item in shopping_cart:\n",
        "        item_description = f\"Size: {item['size']}, Colors: {', '.join(item['colors'])}, Quantity: {item['quantity']}, Price: ${item['price']:.2f}\"\n",
        "        cart_items.append(item_description)\n",
        "    return \"\\n\".join(cart_items)\n",
        "\n",
        "def calculate_total():\n",
        "    total_price = sum(item[\"price\"] for item in shopping_cart)\n",
        "    return total_price\n",
        "\n",
        "def update_cart(size, colors, quantity):\n",
        "    add_to_cart(size, colors, quantity)  # Add item to cart\n",
        "    cart_items_str = view_cart()  # Get cart items as string\n",
        "    total_price = sum(item[\"price\"] for item in shopping_cart)  # Calculate subtotal\n",
        "    tax_amount = total_price * 0.075  # Calculate tax amount\n",
        "    tax_amount = round(tax_amount, 2)  # Round to 2 decimal places\n",
        "    total_price_with_tax = total_price + tax_amount  # Calculate total price\n",
        "    total_price_with_tax = round(total_price_with_tax, 2)  # Round to 2 decimal places\n",
        "\n",
        "    # Format output string\n",
        "    output_str = f\"{cart_items_str}\\n\\nSubtotal: ${total_price:.2f}\\nTax: ${tax_amount:.2f}\\nTotal: ${total_price_with_tax:.2f}\"\n",
        "\n",
        "    return output_str, tax_amount, total_price_with_tax\n",
        "\n",
        "\n",
        "\n",
        "with gr.Blocks() as demo:\n",
        "    with gr.Row():\n",
        "        with gr.Column():\n",
        "            size_dropdown = gr.Dropdown([\"Xtra large\", \"large\", \"medium\", \"small\"], label=\"Size\")\n",
        "            color_checkbox_group = gr.CheckboxGroup([\"Red\", \"Green\", \"Royal blue\", \"Black\", \"White\"], label=\"Colors\")\n",
        "            quantity_number = gr.Number(label=\"Quantity\", value=1)\n",
        "            add_to_cart_button = gr.Button(\"Add to Cart\")\n",
        "\n",
        "        with gr.Column():\n",
        "            cart_output = gr.Textbox(label=\"Shopping Cart\", lines=5)\n",
        "            tax_output = gr.Number(label=\"Tax\")\n",
        "            total_output = gr.Number(label=\"Total Price\")\n",
        "\n",
        "    add_to_cart_button.click(\n",
        "        update_cart,\n",
        "        inputs=[size_dropdown, color_checkbox_group, quantity_number],\n",
        "        outputs=[cart_output, tax_output, total_output],\n",
        "    )\n",
        "\n",
        "demo.launch(share=True)"
      ]
    },
    {
      "cell_type": "code",
      "execution_count": null,
      "metadata": {
        "id": "g5Jv4ExTSVuF"
      },
      "outputs": [],
      "source": []
    }
  ]
}